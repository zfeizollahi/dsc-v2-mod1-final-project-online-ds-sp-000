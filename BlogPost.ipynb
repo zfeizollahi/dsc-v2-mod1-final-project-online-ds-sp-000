{
 "cells": [
  {
   "cell_type": "markdown",
   "metadata": {},
   "source": [
    "<p align=\"left\">\n",
    "    \n",
    "## Everything looks alike\n",
    "#### a.k.a. measures of data variation and model error \n",
    "\n",
    "If you're like me, reading through a lesson on statistics ans machine learning is straightforward and usually makes sense. (So long as the curriculum was well-thought out and explained!). But after a while the terms and concepts jumble together, formulas and greek notation look similar, and my mind starts to boggle. Part of being a data scientist is being able to intelligently explain and use the different measures of variation and error correctly. I often copy paste definitions and formulas that make sense to me, and wanted to make a nice cheat sheet for future reference. Hopefully, this is useful not just to myself but to others. \n",
    "\n",
    "#### Measures of dispersion\n",
    "#### \"How spread out is the data, and where does this data point lie w.r.t. the ther rest of the data?\"\n",
    "\n",
    "\n",
    "<img src=\"DispersionMeasuresTable.png\">\n",
    "\n",
    "1. **Absolute Deviation** ask the question \"given one single data point, how far is this data point from the mean?\" This is the building block for the formulas below. The \"absolute\" refers to takeing hte absolute value (remove the negative sign) when you calculate the distance from the mean, in the case that the data point is less than the mean. I suppose one could just calculate \"deviation\" so that the negative sign (below the mean) provided something useful. But if you dont' remove it, when you try to calculate averages over the entire data set, you'll end up with 0. (Try it!) Some formulas take the square instead of absolute value to get around the negative sign / zero problem.\n",
    "\n",
    "\n",
    "2. **Average Absolute Deviation** simply trying to ask the same question as absolute deviation but for the entire data set. How spread out is this data overall? To do that, we do #1 for all the data points, sum it up, and then find the average amount of distance from the mean (as in divide but total number of data points).\n",
    "\n",
    "\n",
    "3. **Variance** is basically the same as average absolute deviation, except that we take the square of the distance instead of the absolute value. The only problem here is that the final number you get is much larger than the units you started with. For example, if you were measuring variation in weight, you'd have pounds^ 2 not pounds. That's why we do number 4. \n",
    "\n",
    "\n",
    "4. **Standard Deviation** basically converts variance back into a unit that is the same as the data. If we measured pounds, we can say the standard deviation is X pounds. \n",
    "\n",
    "\n",
    "\n",
    "5. ***Z*-score** computes a number for a single data point but in a way that we can compare across units. The unit being 1 for the very top value, and 0 being the lowest value in the dataset. So we could compare the z-score of someone's height  and weight. For example, .9 for height, they are super tall! but if they have a .5 for weight that would mean they have a fairly average weight. (Consequently, we'd have to build some sort of height/weight table to figure out .. oh for their height they are actually quite underweight, give the average weight for someone in that height range, but that's another story!)\n",
    "\n",
    "\n",
    "#### Some other terms related to above to note\n",
    "\n",
    "One thing to note about standard deviation, is that it is sometimes used as a unit. Lots of data tends to follow a normal gaussian curve - or bell curve you heard of. The  data is has a mean, median and mode that are equal, and often 68% of the data lies within 1 standard deviation from the mean. Meaning, whatever we calculated for standard deviation, 68% of the data \\+\\/\\- that amount from the mean. For example, if we have a mean of 10 dollars and a standard deviation of 5 dollars. 68% of the data lies between $5 - 15.  If someone says something about 0.4 standard deviations, then we can just multiple 0.4 by 5 (standard deviation) and find out that they mean 2 dollars. It's another way of being able to standardize the units and compare regardless of the original units we're using."
   ]
  },
  {
   "cell_type": "markdown",
   "metadata": {},
   "source": [
    "### Error: Measures of Dispersion on the model\n",
    "\n",
    "A lot of formulas below look like the ones we just discussed. However the ones in the previous section are all about the data itself. The ones here are all about how well the model does - hence the term error or \"goodness of fit\". Meaning the model made a prediction, and we as how far is that prediction from the actual data point. Similar to variance, standard deviation, etc. we want a number that gives the overall average errors, and then do something to make the number something we can compare across models with different types of units.\n",
    "\n",
    "\n",
    "\n",
    "<img src=\"ModelMeasuresTable.png\">\n",
    "\n",
    "\n",
    "1. **RSS - Residual Sum of Squares - Linear Regression Model** - This calculates the total error for the linear regression model. For each data point, take the actual correct value, find what your model predicts, and find how far off it is. So, subtract the actual value from the predicted value. Then we do the normal squaring and adding up for all datapoints. (See what I mean, subtracting Y and squaring and summing, sounds a lot absolute average deviation, variance, and standard deviation). Obviously, you want the error to be a small number.\n",
    "\n",
    "\n",
    "2. **Total Sum of Squares - Baseline model** The baseline model just predicts mean for every single data point. In a way we're asking, how bad would it be if we were lazy and just predicted the mean for everything? Most of the time, this is a pretty bad idea and the error is likely to be very large.\n",
    "\n",
    "\n",
    "\n",
    "3.  **R-squared - coefficient of errors** - takes a ratio of the RSS and TSS (and then substracts it from one). But first lets go through each piece. As I mentioned RSS, we want to be small (if it's a good model), and TSS is likely to be pretty big. So if we did well in fitting our model we should get an even smaller number. A small number divided by a big number is going to be an even smaller number. Then we take that small number and subtract from 1. Subtracting a small number from one means that we should end up with something close to one (if the model is good). This way we can also compare across models how well each one got to one.\n",
    "\n",
    "\n",
    "4. **Adjusted R-squared - coefficient of errors** I'm not even going to attemp to explain the formula for Adjusted R<sup>2</sup>. Sometimes statistians add in things to account for mathy stuff, or real world information like 'don't add too many variables'. Apparently, adding lots of variables makes the R<sup>2</sup> error go up. I guess lots of variables means there's lots of ways to predict incorrectly. Adjusted R<sup>2</sup> simply penalizes additional independent variables. \n",
    "\n"
   ]
  },
  {
   "cell_type": "markdown",
   "metadata": {},
   "source": [
    "It's easy to get overwhelmed with formulas and statistics. The important thing to remember is that statistics is an entire field that people specialize in. Statisticians are constantly evaluating the definitions and formulas trying to make sure that the number we get from those formulas appropriate capture the data and the context about that data. They build on the former concepts but add some mathematical terms to adjust for real world knowledge, difficulty of the problem, dataset size, or to hedge a bit more. (Kinda like saying \"Hey, take this number with a grain of salt!\"). It's a lot of info to cram into one number. On the one hand we shouldn't be scared of these giant formulas, but by building a formula up from the ground we can understand just what each concept covers and doesn't cover. Stats are great, but if you understand what they mean and how they are used, you can say and understand a lot of about the world, (and even more importantly distinguish what we don't know)."
   ]
  },
  {
   "cell_type": "markdown",
   "metadata": {},
   "source": [
    "#### Appendix: Not removing the sign results in 0 average deviation/variance"
   ]
  },
  {
   "cell_type": "markdown",
   "metadata": {},
   "source": [
    "```python\n",
    "import numpy as np\n",
    "a = [1,2,3,4,5]\n",
    "sum(a)```\n",
    "15\n",
    "```python\n",
    "np.mean(a)\n",
    "```\n",
    "3.0\n",
    "```python\n",
    "def non_abs_average(a):\n",
    "    b = []\n",
    "    for i in a:\n",
    "        b.append(i - np.mean(a))\n",
    "    return sum(b) / len(b)\n",
    "non_abs_average(a)\n",
    "```\n",
    "0.0"
   ]
  },
  {
   "cell_type": "code",
   "execution_count": null,
   "metadata": {},
   "outputs": [],
   "source": []
  }
 ],
 "metadata": {
  "kernelspec": {
   "display_name": "Python [conda env:learn-env] *",
   "language": "python",
   "name": "conda-env-learn-env-py"
  },
  "language_info": {
   "codemirror_mode": {
    "name": "ipython",
    "version": 3
   },
   "file_extension": ".py",
   "mimetype": "text/x-python",
   "name": "python",
   "nbconvert_exporter": "python",
   "pygments_lexer": "ipython3",
   "version": "3.6.6"
  }
 },
 "nbformat": 4,
 "nbformat_minor": 2
}
