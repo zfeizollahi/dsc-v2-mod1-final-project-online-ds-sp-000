{
 "cells": [
  {
   "cell_type": "code",
   "execution_count": 35,
   "metadata": {},
   "outputs": [],
   "source": [
    "import pandas as pd\n",
    "import pickle\n",
    "import numpy as np\n",
    "import ipynb.fs.defs.student as tr"
   ]
  },
  {
   "cell_type": "code",
   "execution_count": 87,
   "metadata": {},
   "outputs": [],
   "source": [
    "#load in my house data (transformed) and selected features by models \n",
    "my_house_1 = pickle.load(open(\"my_house.p\", \"rb\" ) )\n",
    "my_house_2 = pickle.load(open(\"my_house_2.p\", \"rb\" ) )\n",
    "my_house_2_date = pickle.load(open( \"my_house_2_date.p\", \"rb\" ) )\n",
    "my_house_2_date_latlong = pickle.load(open( \"my_house_2_date_latlong.p\", \"rb\" ) )\n",
    "\n",
    "included = pickle.load(open(\"included.p\", \"rb\" ) )\n",
    "included2 = pickle.load(open(\"included2.p\", \"rb\" ) )\n",
    "included_d = pickle.load(open( \"included2_dates.p\", \"rb\" ) )\n",
    "included_dl = pickle.load(open( \"included2_dates_latlong.p\", \"rb\" ) )"
   ]
  },
  {
   "cell_type": "markdown",
   "metadata": {},
   "source": [
    "#### Check data shapes"
   ]
  },
  {
   "cell_type": "markdown",
   "metadata": {},
   "source": [
    "Here I check to make sure I have the same shapes as the original data."
   ]
  },
  {
   "cell_type": "code",
   "execution_count": 54,
   "metadata": {},
   "outputs": [
    {
     "data": {
      "text/plain": [
       "set()"
      ]
     },
     "execution_count": 54,
     "metadata": {},
     "output_type": "execute_result"
    }
   ],
   "source": [
    "data = pickle.load(open(\"data.p\", \"rb\" ) )\n",
    "set(my_house_1.columns).difference(data.columns)"
   ]
  },
  {
   "cell_type": "code",
   "execution_count": 93,
   "metadata": {},
   "outputs": [
    {
     "data": {
      "text/plain": [
       "((21533, 63), (1, 63))"
      ]
     },
     "execution_count": 93,
     "metadata": {},
     "output_type": "execute_result"
    }
   ],
   "source": [
    "data[included].shape, my_house_1[included].shape"
   ]
  },
  {
   "cell_type": "code",
   "execution_count": 95,
   "metadata": {},
   "outputs": [
    {
     "data": {
      "text/plain": [
       "((21533, 75), (1, 75))"
      ]
     },
     "execution_count": 95,
     "metadata": {},
     "output_type": "execute_result"
    }
   ],
   "source": [
    "data.shape, my_house_1.shape"
   ]
  },
  {
   "cell_type": "code",
   "execution_count": 72,
   "metadata": {},
   "outputs": [
    {
     "data": {
      "text/plain": [
       "set()"
      ]
     },
     "execution_count": 72,
     "metadata": {},
     "output_type": "execute_result"
    }
   ],
   "source": [
    "data_2 = pickle.load(open(\"data_2.p\", \"rb\" ) )\n",
    "set(my_house_2.columns).difference(data_2.columns)"
   ]
  },
  {
   "cell_type": "code",
   "execution_count": 73,
   "metadata": {},
   "outputs": [
    {
     "data": {
      "text/plain": [
       "((21533, 77), (1, 77))"
      ]
     },
     "execution_count": 73,
     "metadata": {},
     "output_type": "execute_result"
    }
   ],
   "source": [
    "data_2.shape, my_house_2.shape"
   ]
  },
  {
   "cell_type": "code",
   "execution_count": 84,
   "metadata": {},
   "outputs": [
    {
     "name": "stdout",
     "output_type": "stream",
     "text": [
      "set()\n"
     ]
    },
    {
     "data": {
      "text/plain": [
       "((21533, 79), (1, 79))"
      ]
     },
     "execution_count": 84,
     "metadata": {},
     "output_type": "execute_result"
    }
   ],
   "source": [
    "data_2_date = pickle.load(open(\"data_2_date.p\", \"rb\" ) )\n",
    "print(set(data_2_date.columns).difference(my_house_2_date.columns))\n",
    "\n",
    "data_2_date.shape, my_house_2_date.shape"
   ]
  },
  {
   "cell_type": "markdown",
   "metadata": {},
   "source": [
    "#### Load Models and Predict"
   ]
  },
  {
   "cell_type": "code",
   "execution_count": 99,
   "metadata": {},
   "outputs": [],
   "source": [
    "#load in models\n",
    "model_1 = pickle.load(open('model_transform1.p', 'rb'))\n",
    "model_2 = pickle.load(open('model_transform2.p', 'rb'))\n",
    "model_2_date = pickle.load(open('model_transform2_dates.p', 'rb'))\n",
    "model_2_date_latlong = pickle.load(open('model_transform2_dates_latlong.p', 'rb'))"
   ]
  },
  {
   "cell_type": "code",
   "execution_count": 109,
   "metadata": {},
   "outputs": [
    {
     "data": {
      "text/plain": [
       "-285275"
      ]
     },
     "execution_count": 109,
     "metadata": {},
     "output_type": "execute_result"
    }
   ],
   "source": [
    "#prediction error from model 1\n",
    "int(model_1.predict(my_house_1[included])[0]) - 390000"
   ]
  },
  {
   "cell_type": "code",
   "execution_count": 112,
   "metadata": {},
   "outputs": [
    {
     "data": {
      "text/plain": [
       "259973"
      ]
     },
     "execution_count": 112,
     "metadata": {},
     "output_type": "execute_result"
    }
   ],
   "source": [
    "#prediction error from model 2\n",
    "int(model_2.predict(my_house_2[included2])[0]) - 390000"
   ]
  },
  {
   "cell_type": "code",
   "execution_count": 113,
   "metadata": {},
   "outputs": [
    {
     "data": {
      "text/plain": [
       "234248"
      ]
     },
     "execution_count": 113,
     "metadata": {},
     "output_type": "execute_result"
    }
   ],
   "source": [
    "#prediction error from model 3\n",
    "int(model_2_date.predict(my_house_2_date[included_d])[0]) - 390000"
   ]
  },
  {
   "cell_type": "code",
   "execution_count": 114,
   "metadata": {},
   "outputs": [
    {
     "data": {
      "text/plain": [
       "261002"
      ]
     },
     "execution_count": 114,
     "metadata": {},
     "output_type": "execute_result"
    }
   ],
   "source": [
    "#prediction error from model 4\n",
    "int(model_2_date_latlong.predict(my_house_2_date_latlong[included_dl])[0]) - 390000"
   ]
  },
  {
   "cell_type": "markdown",
   "metadata": {},
   "source": [
    "Error is quite high! These models are terrible - or I got great deal on my house by having my offer accepted at such a low price. However, consistent with our error measures in the Modeling notebook - model 3 (transformations 2 with dates) has the lowest error. And the error rates are similar in 200k range, though this prediction is slightly higher. My thought is that the zipcode is the contributor to the error. As I mentioned, my particular zipcode includes waterfront property, yet there is a range of desirable neighborhoods within that zipcode. As we saw in the modeling notebook, zipcode was in the top 5 coefficients. Each of those zipcodes to my knowledge are highly desirable anywhere in the area."
   ]
  },
  {
   "cell_type": "code",
   "execution_count": null,
   "metadata": {},
   "outputs": [],
   "source": []
  }
 ],
 "metadata": {
  "kernelspec": {
   "display_name": "Python [conda env:learn-env] *",
   "language": "python",
   "name": "conda-env-learn-env-py"
  },
  "language_info": {
   "codemirror_mode": {
    "name": "ipython",
    "version": 3
   },
   "file_extension": ".py",
   "mimetype": "text/x-python",
   "name": "python",
   "nbconvert_exporter": "python",
   "pygments_lexer": "ipython3",
   "version": "3.6.6"
  }
 },
 "nbformat": 4,
 "nbformat_minor": 2
}
