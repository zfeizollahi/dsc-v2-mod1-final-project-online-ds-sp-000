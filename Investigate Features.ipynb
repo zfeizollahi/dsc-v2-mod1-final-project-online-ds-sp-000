{
 "cells": [
  {
   "cell_type": "code",
   "execution_count": 2,
   "metadata": {},
   "outputs": [],
   "source": [
    "#import modules\n",
    "import pandas as pd\n",
    "import matplotlib.pyplot as plt\n",
    "import numpy as np"
   ]
  },
  {
   "cell_type": "code",
   "execution_count": 3,
   "metadata": {},
   "outputs": [],
   "source": [
    "df = pd.read_csv('kc_house_data.csv')"
   ]
  },
  {
   "cell_type": "markdown",
   "metadata": {},
   "source": [
    "### Waterfront - Missing values investigation"
   ]
  },
  {
   "cell_type": "markdown",
   "metadata": {},
   "source": [
    "Most missing values have prices on the lower end. We might want to fill in with a 0 value, meaning waterfront since non-waterfront properties will be lower than those with waterfront. But this might also be a general reflection of the data."
   ]
  },
  {
   "cell_type": "code",
   "execution_count": 6,
   "metadata": {},
   "outputs": [
    {
     "data": {
      "text/plain": [
       "<matplotlib.axes._subplots.AxesSubplot at 0x7fac08242ef0>"
      ]
     },
     "execution_count": 6,
     "metadata": {},
     "output_type": "execute_result"
    },
    {
     "data": {
      "image/png": "[encoded data removed]",
      "text/plain": [
       "<Figure size 432x288 with 1 Axes>"
      ]
     },
     "metadata": {
      "needs_background": "light"
     },
     "output_type": "display_data"
    }
   ],
   "source": [
    "df[df['waterfront'].isna() == True].price.hist()"
   ]
  },
  {
   "cell_type": "code",
   "execution_count": 58,
   "metadata": {},
   "outputs": [
    {
     "data": {
      "image/png": "[encoded data removed]",
      "text/plain": [
       "<Figure size 1080x576 with 3 Axes>"
      ]
     },
     "metadata": {
      "needs_background": "light"
     },
     "output_type": "display_data"
    }
   ],
   "source": [
    "fig, axes = plt.subplots(1, 3, figsize=(15, 8), sharey='row')\n",
    "axes[0].boxplot(df[df['waterfront'] == 1.0].price)\n",
    "axes[0].set_title(\"Waterfront\")\n",
    "axes[1].boxplot(df[df['waterfront'] == 0.0].price)\n",
    "axes[1].set_title(\"Non-Waterfront\")\n",
    "axes[2].boxplot(df[df['waterfront'].isna() == True].price)\n",
    "axes[2].set_title(\"Unknown\")\n",
    "#plt.xticks(rotation='vertical')\n",
    "plt.show()"
   ]
  },
  {
   "cell_type": "markdown",
   "metadata": {},
   "source": [
    "Comparing distributions - the missing values has a median and quartile distribution similar to the non-waterfront properties (above). Below, we can see that the minimum missing value group is similar to the non-waterfront properties, however non-waterfront properties has maxes in the 7 million range similar to non-waterfront. So maximum value won't help much."
   ]
  },
  {
   "cell_type": "code",
   "execution_count": 8,
   "metadata": {},
   "outputs": [
    {
     "name": "stdout",
     "output_type": "stream",
     "text": [
      "1717214\n",
      "1510000\n",
      "532641\n",
      "450000\n",
      "529430\n",
      "445000\n"
     ]
    }
   ],
   "source": [
    "print(int(df[df['waterfront'] == 1.0].price.mean()))\n",
    "print(int(df[df['waterfront'] == 1.0].price.median()))\n",
    "print(int(df[df['waterfront'] == 0.0].price.mean()))\n",
    "print(int(df[df['waterfront'] == 0.0].price.median()))\n",
    "print(int(df[df['waterfront'].isna() == True].price.mean()))\n",
    "print(int(df[df['waterfront'].isna() == True].price.median()))"
   ]
  },
  {
   "cell_type": "code",
   "execution_count": 59,
   "metadata": {},
   "outputs": [
    {
     "name": "stdout",
     "output_type": "stream",
     "text": [
      "7060000.0\n",
      "285000.0\n",
      "7700000.0\n",
      "78000.0\n",
      "3200000.0\n",
      "80000.0\n"
     ]
    }
   ],
   "source": [
    "print(df[df['waterfront'] == 1.0].price.max())\n",
    "print(df[df['waterfront'] == 1.0].price.min())\n",
    "print(df[df['waterfront'] == 0.0].price.max())\n",
    "print(df[df['waterfront'] == 0.0].price.min())\n",
    "print(df[df['waterfront'].isna() == True].price.max())\n",
    "print(df[df['waterfront'].isna() == True].price.min())"
   ]
  },
  {
   "cell_type": "markdown",
   "metadata": {},
   "source": [
    "There are many more non-waterfront properties (99%) than waterfront (0.7%)."
   ]
  },
  {
   "cell_type": "code",
   "execution_count": 61,
   "metadata": {},
   "outputs": [
    {
     "data": {
      "text/plain": [
       "0.0    19075\n",
       "1.0      146\n",
       "Name: waterfront, dtype: int64"
      ]
     },
     "execution_count": 61,
     "metadata": {},
     "output_type": "execute_result"
    }
   ],
   "source": [
    "df['waterfront'].value_counts()"
   ]
  },
  {
   "cell_type": "code",
   "execution_count": 11,
   "metadata": {},
   "outputs": [
    {
     "name": "stdout",
     "output_type": "stream",
     "text": [
      "0.0    0.992404\n",
      "1.0    0.007596\n",
      "Name: waterfront, dtype: float64\n"
     ]
    }
   ],
   "source": [
    "prob_dist = df.waterfront.value_counts(normalize=True)\n",
    "print(prob_dist)"
   ]
  },
  {
   "cell_type": "markdown",
   "metadata": {},
   "source": [
    "Nevertheless, just to be sure we can random choice selectiong based on the distribution. 99% in the non-waterfront means that most of them will be assigned non-waterfront status."
   ]
  },
  {
   "cell_type": "code",
   "execution_count": 12,
   "metadata": {},
   "outputs": [
    {
     "data": {
      "text/html": [
       "<div>\n",
       "<style scoped>\n",
       "    .dataframe tbody tr th:only-of-type {\n",
       "        vertical-align: middle;\n",
       "    }\n",
       "\n",
       "    .dataframe tbody tr th {\n",
       "        vertical-align: top;\n",
       "    }\n",
       "\n",
       "    .dataframe thead th {\n",
       "        text-align: right;\n",
       "    }\n",
       "</style>\n",
       "<table border=\"1\" class=\"dataframe\">\n",
       "  <thead>\n",
       "    <tr style=\"text-align: right;\">\n",
       "      <th></th>\n",
       "      <th>id</th>\n",
       "      <th>date</th>\n",
       "      <th>price</th>\n",
       "      <th>bedrooms</th>\n",
       "      <th>bathrooms</th>\n",
       "      <th>sqft_living</th>\n",
       "      <th>sqft_lot</th>\n",
       "      <th>floors</th>\n",
       "      <th>waterfront</th>\n",
       "      <th>view</th>\n",
       "      <th>...</th>\n",
       "      <th>grade</th>\n",
       "      <th>sqft_above</th>\n",
       "      <th>sqft_basement</th>\n",
       "      <th>yr_built</th>\n",
       "      <th>yr_renovated</th>\n",
       "      <th>zipcode</th>\n",
       "      <th>lat</th>\n",
       "      <th>long</th>\n",
       "      <th>sqft_living15</th>\n",
       "      <th>sqft_lot15</th>\n",
       "    </tr>\n",
       "  </thead>\n",
       "  <tbody>\n",
       "  </tbody>\n",
       "</table>\n",
       "<p>0 rows × 21 columns</p>\n",
       "</div>"
      ],
      "text/plain": [
       "Empty DataFrame\n",
       "Columns: [id, date, price, bedrooms, bathrooms, sqft_living, sqft_lot, floors, waterfront, view, condition, grade, sqft_above, sqft_basement, yr_built, yr_renovated, zipcode, lat, long, sqft_living15, sqft_lot15]\n",
       "Index: []\n",
       "\n",
       "[0 rows x 21 columns]"
      ]
     },
     "execution_count": 12,
     "metadata": {},
     "output_type": "execute_result"
    }
   ],
   "source": [
    "missing = df['waterfront'].isnull()\n",
    "df.loc[missing,'waterfront'] = np.random.choice(prob_dist.index, size=len(df[missing]),p=prob_dist.values)\n",
    "df[df['waterfront'].isna() == True]"
   ]
  },
  {
   "cell_type": "code",
   "execution_count": 14,
   "metadata": {},
   "outputs": [
    {
     "data": {
      "text/plain": [
       "0.0    0.992638\n",
       "1.0    0.007362\n",
       "Name: waterfront, dtype: float64"
      ]
     },
     "execution_count": 14,
     "metadata": {},
     "output_type": "execute_result"
    }
   ],
   "source": [
    "df['waterfront'].value_counts(normalize=True)"
   ]
  },
  {
   "cell_type": "markdown",
   "metadata": {},
   "source": [
    "We didn't end up changing the distribution too much."
   ]
  },
  {
   "cell_type": "markdown",
   "metadata": {},
   "source": [
    "## Zipcodes"
   ]
  },
  {
   "cell_type": "markdown",
   "metadata": {},
   "source": [
    "Zipcode search shows that we have a min/max zip code of Sammamish to Lake City in Seattle."
   ]
  },
  {
   "cell_type": "markdown",
   "metadata": {},
   "source": [
    "https://www.google.com/search?q=zipcode+98125&oq=zi&aqs=chrome.0.69i59j0j69i59j69i57j0l2.1053j0j7&sourceid=chrome&ie=UTF-8"
   ]
  },
  {
   "cell_type": "markdown",
   "metadata": {},
   "source": [
    "https://www.google.com/search?q=zipcode+98074&oq=z&aqs=chrome.2.69i60j69i59l2j69i57j69i60j69i61.2073j0j9&sourceid=chrome&ie=UTF-8"
   ]
  },
  {
   "cell_type": "markdown",
   "metadata": {},
   "source": [
    "Zipcodes are fairly large, for example my zipcode, 98144, extends all the way to the waterfront. The houses on and near the waterfront are very nice and highly desirable. On the west side, it's a very busy thoroughfare and a transitional neighborhood. I would think that zipcode as a location feature wouldn't be fine grained enough to represent neighborhood desirability. For this reason, after doing two rounds of modeling, I thought to use lat-long to create bins mimicing a smaller zone of neighbhorhoods. (See below)"
   ]
  },
  {
   "cell_type": "markdown",
   "metadata": {},
   "source": [
    "<img src=\"zipcodes.jpg\">"
   ]
  },
  {
   "cell_type": "markdown",
   "metadata": {},
   "source": [
    "### Lat / Long investigation and binning"
   ]
  },
  {
   "cell_type": "markdown",
   "metadata": {},
   "source": [
    "Here I look at the lat-long distributions to get an idea of the data and find some errors most likely, and try to find how much change in lat long would make a difference in terms of delineating a new neighborhood."
   ]
  },
  {
   "cell_type": "code",
   "execution_count": 66,
   "metadata": {},
   "outputs": [
    {
     "data": {
      "image/png": "[encoded data removed]",
      "text/plain": [
       "<Figure size 432x288 with 2 Axes>"
      ]
     },
     "metadata": {
      "needs_background": "light"
     },
     "output_type": "display_data"
    }
   ],
   "source": [
    "df[['lat', 'long']].hist();"
   ]
  },
  {
   "cell_type": "markdown",
   "metadata": {},
   "source": [
    "There seems to be some outliers in the longitude feature - it looks as though there's a jump to -121.5."
   ]
  },
  {
   "cell_type": "markdown",
   "metadata": {},
   "source": [
    "Let's find the row with the max longitude, to see if anything jumps out, as well as look at the latitude to pinpoint this location"
   ]
  },
  {
   "cell_type": "code",
   "execution_count": 67,
   "metadata": {},
   "outputs": [
    {
     "data": {
      "text/plain": [
       "-121.315"
      ]
     },
     "execution_count": 67,
     "metadata": {},
     "output_type": "execute_result"
    }
   ],
   "source": [
    "df['long'].max()"
   ]
  },
  {
   "cell_type": "code",
   "execution_count": 68,
   "metadata": {},
   "outputs": [
    {
     "data": {
      "text/plain": [
       "47.713"
      ]
     },
     "execution_count": 68,
     "metadata": {},
     "output_type": "execute_result"
    }
   ],
   "source": [
    "df.loc[df['long'].idxmax()].lat"
   ]
  },
  {
   "cell_type": "code",
   "execution_count": 69,
   "metadata": {},
   "outputs": [
    {
     "data": {
      "text/plain": [
       "id               8649401270\n",
       "date              4/30/2015\n",
       "price                167000\n",
       "bedrooms                  1\n",
       "bathrooms                 1\n",
       "sqft_living             780\n",
       "sqft_lot              10235\n",
       "floors                  1.5\n",
       "waterfront                0\n",
       "view                      0\n",
       "condition                 3\n",
       "grade                     6\n",
       "sqft_above              780\n",
       "sqft_basement           0.0\n",
       "yr_built               1989\n",
       "yr_renovated            NaN\n",
       "zipcode               98014\n",
       "lat                  47.713\n",
       "long               -121.315\n",
       "sqft_living15           930\n",
       "sqft_lot15            10165\n",
       "Name: 2925, dtype: object"
      ]
     },
     "execution_count": 69,
     "metadata": {},
     "output_type": "execute_result"
    }
   ],
   "source": [
    "df.loc[df['long'].idxmax()]"
   ]
  },
  {
   "cell_type": "markdown",
   "metadata": {},
   "source": [
    "Location based on coordinates takes us to Skykomish which has a zipcode of 98288.\n",
    "https://www.google.com/maps/place/47%C2%B042'46.8%22N+121%C2%B018'54.0%22W/@47.7134582,-121.8753472,9z/data=!4m5!3m4!1s0x0:0x0!8m2!3d47.713!4d-121.315\n",
    "\n",
    "\n",
    "Looking up the zipcode listed in that row shows Carnation:\n",
    "https://www.google.com/maps/place/Carnation,+WA+98014/@47.6595647,-122.0321526,11z/data=!3m1!4b1!4m5!3m4!1s0x54907427337254bf:0x9a99e3b770b617f2!8m2!3d47.6478606!4d-121.9140287"
   ]
  },
  {
   "cell_type": "markdown",
   "metadata": {},
   "source": [
    "Let's zoom in on not just the max longitude but all those outliers"
   ]
  },
  {
   "cell_type": "code",
   "execution_count": 73,
   "metadata": {},
   "outputs": [
    {
     "data": {
      "image/png": "[encoded data removed]",
      "text/plain": [
       "<Figure size 432x288 with 1 Axes>"
      ]
     },
     "metadata": {
      "needs_background": "light"
     },
     "output_type": "display_data"
    }
   ],
   "source": [
    "df.loc[df['long'] > -121.5].long.hist();"
   ]
  },
  {
   "cell_type": "markdown",
   "metadata": {},
   "source": [
    "Now we get the zipcodes for all of these cases"
   ]
  },
  {
   "cell_type": "code",
   "execution_count": 18,
   "metadata": {},
   "outputs": [
    {
     "data": {
      "text/plain": [
       "98014    14\n",
       "98019     2\n",
       "98045     1\n",
       "Name: zipcode, dtype: int64"
      ]
     },
     "execution_count": 18,
     "metadata": {},
     "output_type": "execute_result"
    }
   ],
   "source": [
    "df.loc[df['long'] > -121.5].zipcode.value_counts()"
   ]
  },
  {
   "cell_type": "code",
   "execution_count": 19,
   "metadata": {},
   "outputs": [
    {
     "data": {
      "text/html": [
       "<div>\n",
       "<style scoped>\n",
       "    .dataframe tbody tr th:only-of-type {\n",
       "        vertical-align: middle;\n",
       "    }\n",
       "\n",
       "    .dataframe tbody tr th {\n",
       "        vertical-align: top;\n",
       "    }\n",
       "\n",
       "    .dataframe thead th {\n",
       "        text-align: right;\n",
       "    }\n",
       "</style>\n",
       "<table border=\"1\" class=\"dataframe\">\n",
       "  <thead>\n",
       "    <tr style=\"text-align: right;\">\n",
       "      <th></th>\n",
       "      <th>id</th>\n",
       "      <th>date</th>\n",
       "      <th>price</th>\n",
       "      <th>bedrooms</th>\n",
       "      <th>bathrooms</th>\n",
       "      <th>sqft_living</th>\n",
       "      <th>sqft_lot</th>\n",
       "      <th>floors</th>\n",
       "      <th>waterfront</th>\n",
       "      <th>view</th>\n",
       "      <th>...</th>\n",
       "      <th>grade</th>\n",
       "      <th>sqft_above</th>\n",
       "      <th>sqft_basement</th>\n",
       "      <th>yr_built</th>\n",
       "      <th>yr_renovated</th>\n",
       "      <th>zipcode</th>\n",
       "      <th>lat</th>\n",
       "      <th>long</th>\n",
       "      <th>sqft_living15</th>\n",
       "      <th>sqft_lot15</th>\n",
       "    </tr>\n",
       "  </thead>\n",
       "  <tbody>\n",
       "    <tr>\n",
       "      <th>2587</th>\n",
       "      <td>5061300030</td>\n",
       "      <td>5/8/2014</td>\n",
       "      <td>134000.0</td>\n",
       "      <td>2</td>\n",
       "      <td>1.50</td>\n",
       "      <td>980</td>\n",
       "      <td>5000</td>\n",
       "      <td>2.0</td>\n",
       "      <td>0.0</td>\n",
       "      <td>0.0</td>\n",
       "      <td>...</td>\n",
       "      <td>7</td>\n",
       "      <td>980</td>\n",
       "      <td>0.0</td>\n",
       "      <td>1922</td>\n",
       "      <td>2003.0</td>\n",
       "      <td>98014</td>\n",
       "      <td>47.7076</td>\n",
       "      <td>-121.359</td>\n",
       "      <td>1040</td>\n",
       "      <td>5000</td>\n",
       "    </tr>\n",
       "    <tr>\n",
       "      <th>2925</th>\n",
       "      <td>8649401270</td>\n",
       "      <td>4/30/2015</td>\n",
       "      <td>167000.0</td>\n",
       "      <td>1</td>\n",
       "      <td>1.00</td>\n",
       "      <td>780</td>\n",
       "      <td>10235</td>\n",
       "      <td>1.5</td>\n",
       "      <td>0.0</td>\n",
       "      <td>0.0</td>\n",
       "      <td>...</td>\n",
       "      <td>6</td>\n",
       "      <td>780</td>\n",
       "      <td>0.0</td>\n",
       "      <td>1989</td>\n",
       "      <td>NaN</td>\n",
       "      <td>98014</td>\n",
       "      <td>47.7130</td>\n",
       "      <td>-121.315</td>\n",
       "      <td>930</td>\n",
       "      <td>10165</td>\n",
       "    </tr>\n",
       "    <tr>\n",
       "      <th>4199</th>\n",
       "      <td>1437500015</td>\n",
       "      <td>7/9/2014</td>\n",
       "      <td>150000.0</td>\n",
       "      <td>3</td>\n",
       "      <td>0.75</td>\n",
       "      <td>490</td>\n",
       "      <td>38500</td>\n",
       "      <td>1.5</td>\n",
       "      <td>0.0</td>\n",
       "      <td>0.0</td>\n",
       "      <td>...</td>\n",
       "      <td>5</td>\n",
       "      <td>490</td>\n",
       "      <td>0.0</td>\n",
       "      <td>1959</td>\n",
       "      <td>0.0</td>\n",
       "      <td>98014</td>\n",
       "      <td>47.7112</td>\n",
       "      <td>-121.315</td>\n",
       "      <td>800</td>\n",
       "      <td>18297</td>\n",
       "    </tr>\n",
       "    <tr>\n",
       "      <th>4844</th>\n",
       "      <td>192300020</td>\n",
       "      <td>5/21/2014</td>\n",
       "      <td>525000.0</td>\n",
       "      <td>3</td>\n",
       "      <td>2.75</td>\n",
       "      <td>2100</td>\n",
       "      <td>10362</td>\n",
       "      <td>2.0</td>\n",
       "      <td>0.0</td>\n",
       "      <td>0.0</td>\n",
       "      <td>...</td>\n",
       "      <td>9</td>\n",
       "      <td>1510</td>\n",
       "      <td>590.0</td>\n",
       "      <td>1998</td>\n",
       "      <td>0.0</td>\n",
       "      <td>98045</td>\n",
       "      <td>47.4347</td>\n",
       "      <td>-121.417</td>\n",
       "      <td>2240</td>\n",
       "      <td>11842</td>\n",
       "    </tr>\n",
       "    <tr>\n",
       "      <th>5861</th>\n",
       "      <td>7349800780</td>\n",
       "      <td>8/5/2014</td>\n",
       "      <td>175000.0</td>\n",
       "      <td>2</td>\n",
       "      <td>1.75</td>\n",
       "      <td>1050</td>\n",
       "      <td>9800</td>\n",
       "      <td>1.5</td>\n",
       "      <td>0.0</td>\n",
       "      <td>0.0</td>\n",
       "      <td>...</td>\n",
       "      <td>6</td>\n",
       "      <td>1050</td>\n",
       "      <td>0.0</td>\n",
       "      <td>1975</td>\n",
       "      <td>0.0</td>\n",
       "      <td>98019</td>\n",
       "      <td>47.7595</td>\n",
       "      <td>-121.473</td>\n",
       "      <td>1230</td>\n",
       "      <td>12726</td>\n",
       "    </tr>\n",
       "  </tbody>\n",
       "</table>\n",
       "<p>5 rows × 21 columns</p>\n",
       "</div>"
      ],
      "text/plain": [
       "              id       date     price  bedrooms  bathrooms  sqft_living  \\\n",
       "2587  5061300030   5/8/2014  134000.0         2       1.50          980   \n",
       "2925  8649401270  4/30/2015  167000.0         1       1.00          780   \n",
       "4199  1437500015   7/9/2014  150000.0         3       0.75          490   \n",
       "4844   192300020  5/21/2014  525000.0         3       2.75         2100   \n",
       "5861  7349800780   8/5/2014  175000.0         2       1.75         1050   \n",
       "\n",
       "      sqft_lot  floors  waterfront  view     ...      grade  sqft_above  \\\n",
       "2587      5000     2.0         0.0   0.0     ...          7         980   \n",
       "2925     10235     1.5         0.0   0.0     ...          6         780   \n",
       "4199     38500     1.5         0.0   0.0     ...          5         490   \n",
       "4844     10362     2.0         0.0   0.0     ...          9        1510   \n",
       "5861      9800     1.5         0.0   0.0     ...          6        1050   \n",
       "\n",
       "      sqft_basement yr_built  yr_renovated  zipcode      lat     long  \\\n",
       "2587            0.0     1922        2003.0    98014  47.7076 -121.359   \n",
       "2925            0.0     1989           NaN    98014  47.7130 -121.315   \n",
       "4199            0.0     1959           0.0    98014  47.7112 -121.315   \n",
       "4844          590.0     1998           0.0    98045  47.4347 -121.417   \n",
       "5861            0.0     1975           0.0    98019  47.7595 -121.473   \n",
       "\n",
       "      sqft_living15  sqft_lot15  \n",
       "2587           1040        5000  \n",
       "2925            930       10165  \n",
       "4199            800       18297  \n",
       "4844           2240       11842  \n",
       "5861           1230       12726  \n",
       "\n",
       "[5 rows x 21 columns]"
      ]
     },
     "execution_count": 19,
     "metadata": {},
     "output_type": "execute_result"
    }
   ],
   "source": [
    "df[ ((df['zipcode'] == 98045) | (df['zipcode'] == 98014) | (df['zipcode'] == 98019))\n",
    "   & (df['long'] > -121.5)].head()"
   ]
  },
  {
   "cell_type": "markdown",
   "metadata": {},
   "source": [
    "https://www.google.com/maps/place/47%C2%B045'34.2%22N+121%C2%B028'22.8%22W/@47.7596172,-121.7531666,10z/data=!4m5!3m4!1s0x0:0x0!8m2!3d47.7595!4d-121.473\n",
    "\n",
    "https://www.google.com/maps/place/47%C2%B042'27.4%22N+121%C2%B021'32.4%22W/@47.7076036,-121.361194,17z/data=!3m1!4b1!4m5!3m4!1s0x0:0x0!8m2!3d47.7076!4d-121.359\n",
    "\n",
    "These all seem to be incorrect"
   ]
  },
  {
   "cell_type": "markdown",
   "metadata": {},
   "source": [
    "Only a subset of those with zipcode 98014 seem to be correct. It looks to be about 0.4-0.6 off."
   ]
  },
  {
   "cell_type": "code",
   "execution_count": 21,
   "metadata": {},
   "outputs": [
    {
     "data": {
      "image/png": "[encoded data removed]",
      "text/plain": [
       "<Figure size 432x288 with 1 Axes>"
      ]
     },
     "metadata": {
      "needs_background": "light"
     },
     "output_type": "display_data"
    }
   ],
   "source": [
    "df.long[ (df['zipcode'] == 98014)].hist();"
   ]
  },
  {
   "cell_type": "code",
   "execution_count": 22,
   "metadata": {},
   "outputs": [],
   "source": [
    "fix = df.index[(df['zipcode'] == 98014) & (df['long'] > -121.7)].tolist()"
   ]
  },
  {
   "cell_type": "markdown",
   "metadata": {},
   "source": [
    "Let's add about 0.6 to the longitude to get it in the right range"
   ]
  },
  {
   "cell_type": "code",
   "execution_count": 23,
   "metadata": {},
   "outputs": [],
   "source": [
    "df.loc[fix,'long'] = df.loc[fix].long - 0.6"
   ]
  },
  {
   "cell_type": "markdown",
   "metadata": {},
   "source": [
    "The histogram for those with zipcode 98014 looks more reasonable now."
   ]
  },
  {
   "cell_type": "code",
   "execution_count": 24,
   "metadata": {},
   "outputs": [
    {
     "data": {
      "image/png": "[encoded data removed]",
      "text/plain": [
       "<Figure size 432x288 with 1 Axes>"
      ]
     },
     "metadata": {
      "needs_background": "light"
     },
     "output_type": "display_data"
    }
   ],
   "source": [
    "df.long[ (df['zipcode'] == 98014)].hist();"
   ]
  },
  {
   "cell_type": "markdown",
   "metadata": {},
   "source": [
    "As does the general data."
   ]
  },
  {
   "cell_type": "code",
   "execution_count": 25,
   "metadata": {},
   "outputs": [
    {
     "data": {
      "image/png": "[encoded data removed]",
      "text/plain": [
       "<Figure size 432x288 with 1 Axes>"
      ]
     },
     "metadata": {
      "needs_background": "light"
     },
     "output_type": "display_data"
    }
   ],
   "source": [
    "df.long.hist();"
   ]
  },
  {
   "cell_type": "markdown",
   "metadata": {},
   "source": [
    "#### Lat / Long Binning"
   ]
  },
  {
   "cell_type": "markdown",
   "metadata": {},
   "source": [
    "What is the appropriate bin size for Lat/Long? \n",
    "\n",
    "Going east of my house, where I know is a slightly nicer neighborhood has a difference of ~ 0.010. Similarly, going north there is a difference of ~0.010. Other neighborhoods do not have such micro-differences in terms of desirability. Queen Anne has a larger area, and from east to west has a difference of ~0.030. I'll take the average and use 0.020 as a bin sizes."
   ]
  },
  {
   "cell_type": "code",
   "execution_count": 26,
   "metadata": {},
   "outputs": [
    {
     "data": {
      "text/plain": [
       "(-121.417, -122.51899999999999)"
      ]
     },
     "execution_count": 26,
     "metadata": {},
     "output_type": "execute_result"
    }
   ],
   "source": [
    "df['long'].max(), df['long'].min()"
   ]
  },
  {
   "cell_type": "code",
   "execution_count": 27,
   "metadata": {},
   "outputs": [
    {
     "data": {
      "image/png": "[encoded data removed]",
      "text/plain": [
       "<Figure size 432x288 with 1 Axes>"
      ]
     },
     "metadata": {
      "needs_background": "light"
     },
     "output_type": "display_data"
    }
   ],
   "source": [
    "#find bins\n",
    "long_bins = np.arange(df['long'].min(), df['long'].max() + 0.1 , 0.020)\n",
    "lat_bins = np.arange(df['lat'].min(), df['lat'].max() + 0.1, 0.020)\n",
    "#basement['binned'] = pd.cut(basement['sqft_basement'], bins, include_lowest =True)\n",
    "df['long_bin'] = pd.cut(df['long'], long_bins, include_lowest =True)\n",
    "df['lat_bin'] = pd.cut(df['lat'], lat_bins, include_lowest =True)\n",
    "\n",
    "#combine lat/long bin as if str category\n",
    "df['latlong_zone'] = df['long_bin'].astype('str') + df['lat_bin'].astype('str')\n",
    "\n",
    "df['latlong_zone'].value_counts().plot(kind='bar')\n",
    "plt.gca().axes.get_xaxis().set_visible(False)\n",
    "plt.title('Histogram of Lat/Long bins')\n",
    "plt.show();"
   ]
  },
  {
   "cell_type": "code",
   "execution_count": 28,
   "metadata": {},
   "outputs": [
    {
     "data": {
      "text/plain": [
       "697"
      ]
     },
     "execution_count": 28,
     "metadata": {},
     "output_type": "execute_result"
    }
   ],
   "source": [
    "df['latlong_zone'].nunique()"
   ]
  },
  {
   "cell_type": "markdown",
   "metadata": {},
   "source": [
    "Unfortunately, this created 697 zones! When we treat these as categories, and turn them into one-hot vectors we'll end up with an additional 697 features. When training a stepwise model, it ran too slowly to be effective (that's at least 697! combinations!!!). I played around with the size of the bin, up to 0.3, however the fewest number of features created was still around 400. I decided to abandon this approach. It might work with deep neural net trained on GPUs, but for linear regression it just isn't appropriate.\n",
    "\n",
    "\n",
    "I do end up using lat/long as numerical features, but - spoiler alert - it doesn't improve over the best model"
   ]
  },
  {
   "cell_type": "code",
   "execution_count": null,
   "metadata": {},
   "outputs": [],
   "source": [
    "def lat_long_features(df):\n",
    "    df = pd.get_dummies(df, columns=['latlong_zone'], prefix=[\"ll_zone\"])\n",
    "    return df"
   ]
  },
  {
   "cell_type": "markdown",
   "metadata": {},
   "source": [
    "### Sq Ft Basement investigation"
   ]
  },
  {
   "cell_type": "markdown",
   "metadata": {},
   "source": [
    "Square feet of basement has missing values in the form of a string ?. Seattle is quite hilly, and difficult to say what counts as basement or not. The bottom floor may be underground on one side and the other open up to a backyard. Somtimes, assessors or realtors label things weirdly. My house is 3 stories but most of the living area is the 2nd and 3rd floor and the assessor called the first floor the basement and the rest as living area. Given these issues, I'll use binning and probability distributions of those bins to randomly choose a bin and then fill with the mean value in that bin."
   ]
  },
  {
   "cell_type": "code",
   "execution_count": 29,
   "metadata": {},
   "outputs": [
    {
     "name": "stderr",
     "output_type": "stream",
     "text": [
      "/anaconda3/envs/learn-env/lib/python3.6/site-packages/ipykernel_launcher.py:2: SettingWithCopyWarning: \n",
      "A value is trying to be set on a copy of a slice from a DataFrame.\n",
      "Try using .loc[row_indexer,col_indexer] = value instead\n",
      "\n",
      "See the caveats in the documentation: http://pandas.pydata.org/pandas-docs/stable/indexing.html#indexing-view-versus-copy\n",
      "  \n"
     ]
    },
    {
     "data": {
      "text/plain": [
       "<matplotlib.axes._subplots.AxesSubplot at 0x7fac08242f98>"
      ]
     },
     "execution_count": 29,
     "metadata": {},
     "output_type": "execute_result"
    },
    {
     "data": {
      "image/png": "[encoded data removed]",
      "text/plain": [
       "<Figure size 432x288 with 1 Axes>"
      ]
     },
     "metadata": {
      "needs_background": "light"
     },
     "output_type": "display_data"
    }
   ],
   "source": [
    "basement = df[df['sqft_basement'] != '?']\n",
    "basement['sqft_basement'] = basement['sqft_basement'].astype('float')\n",
    "basement['sqft_basement'].hist()"
   ]
  },
  {
   "cell_type": "code",
   "execution_count": 30,
   "metadata": {},
   "outputs": [
    {
     "name": "stdout",
     "output_type": "stream",
     "text": [
      "0.6066310362767819\n",
      "0.7308328997777042\n",
      "(-0.001, 1.0]       12826\n",
      "(500.0, 1000.0]      3865\n",
      "(1.0, 500.0]         2626\n",
      "(1000.0, 1500.0]     1481\n",
      "(1500.0, 2000.0]      270\n",
      "(2000.0, 2500.0]       59\n",
      "(2500.0, 3000.0]       11\n",
      "(3000.0, 3500.0]        3\n",
      "(4500.0, 5000.0]        1\n",
      "(3500.0, 4500.0]        1\n",
      "Name: binned, dtype: int64\n"
     ]
    },
    {
     "name": "stderr",
     "output_type": "stream",
     "text": [
      "/anaconda3/envs/learn-env/lib/python3.6/site-packages/ipykernel_launcher.py:7: SettingWithCopyWarning: \n",
      "A value is trying to be set on a copy of a slice from a DataFrame.\n",
      "Try using .loc[row_indexer,col_indexer] = value instead\n",
      "\n",
      "See the caveats in the documentation: http://pandas.pydata.org/pandas-docs/stable/indexing.html#indexing-view-versus-copy\n",
      "  import sys\n"
     ]
    },
    {
     "data": {
      "text/plain": [
       "0.0"
      ]
     },
     "execution_count": 30,
     "metadata": {},
     "output_type": "execute_result"
    }
   ],
   "source": [
    "np.random.seed(42)\n",
    "print(len(basement[ basement['sqft_basement'] == 0.0]) / len(basement))\n",
    "\n",
    "print(len(basement[ basement['sqft_basement'] <= 500]) / len(basement))\n",
    "\n",
    "bins = [0, 1, 500, 1000, 1500, 2000, 2500, 3000, 3500, 4500, 5000]\n",
    "basement['binned'] = pd.cut(basement['sqft_basement'], bins, include_lowest =True)\n",
    "\n",
    "print(basement['binned'].value_counts())\n",
    "bin_mean = basement.groupby('binned').sqft_basement.mean()\n",
    "round(bin_mean[bin_mean.index.values[0]], 1)"
   ]
  },
  {
   "cell_type": "code",
   "execution_count": 31,
   "metadata": {},
   "outputs": [],
   "source": [
    "# do binning\n",
    "bin_labels = basement['binned'].value_counts().index.values.tolist()\n",
    "# assign category\n",
    "\n",
    "prob_sum_one = [i/sum(basement['binned'].value_counts()) for i in basement['binned'].value_counts()]\n",
    "def compute_class(value):\n",
    "    if value == '?':\n",
    "        interval_assignment = np.random.choice(bin_labels, p=prob_sum_one)\n",
    "        return round(bin_mean[interval_assignment], 1)\n",
    "    else:\n",
    "        return float(value)\n",
    "df['sqft_basement'] = df['sqft_basement'].apply(lambda x: compute_class(x))"
   ]
  },
  {
   "cell_type": "code",
   "execution_count": 32,
   "metadata": {},
   "outputs": [
    {
     "data": {
      "image/png": "[encoded data removed]",
      "text/plain": [
       "<Figure size 432x288 with 1 Axes>"
      ]
     },
     "metadata": {
      "needs_background": "light"
     },
     "output_type": "display_data"
    }
   ],
   "source": [
    "df['sqft_basement'].hist();"
   ]
  },
  {
   "cell_type": "markdown",
   "metadata": {},
   "source": [
    "Let's investigate some outliers."
   ]
  },
  {
   "cell_type": "code",
   "execution_count": 113,
   "metadata": {},
   "outputs": [
    {
     "data": {
      "image/png": "[encoded data removed]",
      "text/plain": [
       "<Figure size 432x288 with 1 Axes>"
      ]
     },
     "metadata": {
      "needs_background": "light"
     },
     "output_type": "display_data"
    }
   ],
   "source": [
    "df.sqft_basement[df['sqft_basement'] > 2750].hist();"
   ]
  },
  {
   "cell_type": "markdown",
   "metadata": {},
   "source": [
    "These basements are larger than some houses! Looking at the price of these houses, they are 1.5 million dollars and above. So we can say it might be reasonable to have a basement that large for some luxury houses."
   ]
  },
  {
   "cell_type": "code",
   "execution_count": 114,
   "metadata": {},
   "outputs": [
    {
     "data": {
      "image/png": "[encoded data removed]",
      "text/plain": [
       "<Figure size 432x288 with 1 Axes>"
      ]
     },
     "metadata": {
      "needs_background": "light"
     },
     "output_type": "display_data"
    }
   ],
   "source": [
    "df.price[df['sqft_basement'] > 2750].hist();"
   ]
  },
  {
   "cell_type": "markdown",
   "metadata": {},
   "source": [
    "Unfortunately, when tranforming the data basement couldn't be transformed into a normal distribution and was dropped."
   ]
  },
  {
   "cell_type": "code",
   "execution_count": null,
   "metadata": {},
   "outputs": [],
   "source": []
  }
 ],
 "metadata": {
  "kernelspec": {
   "display_name": "Python [conda env:learn-env] *",
   "language": "python",
   "name": "conda-env-learn-env-py"
  },
  "language_info": {
   "codemirror_mode": {
    "name": "ipython",
    "version": 3
   },
   "file_extension": ".py",
   "mimetype": "text/x-python",
   "name": "python",
   "nbconvert_exporter": "python",
   "pygments_lexer": "ipython3",
   "version": "3.6.6"
  }
 },
 "nbformat": 4,
 "nbformat_minor": 2
}
